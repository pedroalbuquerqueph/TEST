{
 "cells": [
  {
   "cell_type": "code",
   "execution_count": 1,
   "id": "b91666b8",
   "metadata": {},
   "outputs": [],
   "source": [
    "import enchant"
   ]
  },
  {
   "cell_type": "code",
   "execution_count": null,
   "id": "15a61acd",
   "metadata": {},
   "outputs": [],
   "source": [
    "fiz uma nova mudança"
   ]
  },
  {
   "cell_type": "code",
   "execution_count": 5,
   "id": "eb7bfd51",
   "metadata": {},
   "outputs": [
    {
     "data": {
      "text/plain": [
       "['_Dict__describe',\n",
       " '_Dict__describe_callback',\n",
       " '_Dict__describe_result',\n",
       " '__class__',\n",
       " '__del__',\n",
       " '__delattr__',\n",
       " '__dict__',\n",
       " '__dir__',\n",
       " '__doc__',\n",
       " '__eq__',\n",
       " '__format__',\n",
       " '__ge__',\n",
       " '__getattribute__',\n",
       " '__getstate__',\n",
       " '__gt__',\n",
       " '__hash__',\n",
       " '__init__',\n",
       " '__init_subclass__',\n",
       " '__le__',\n",
       " '__lt__',\n",
       " '__module__',\n",
       " '__ne__',\n",
       " '__new__',\n",
       " '__reduce__',\n",
       " '__reduce_ex__',\n",
       " '__repr__',\n",
       " '__setattr__',\n",
       " '__setstate__',\n",
       " '__sizeof__',\n",
       " '__str__',\n",
       " '__subclasshook__',\n",
       " '__weakref__',\n",
       " '_broker',\n",
       " '_check_this',\n",
       " '_free',\n",
       " '_init_this',\n",
       " '_raise_error',\n",
       " '_switch_this',\n",
       " '_this',\n",
       " 'add',\n",
       " 'add_to_pwl',\n",
       " 'add_to_session',\n",
       " 'check',\n",
       " 'is_added',\n",
       " 'is_removed',\n",
       " 'provider',\n",
       " 'remove',\n",
       " 'remove_from_session',\n",
       " 'store_replacement',\n",
       " 'suggest',\n",
       " 'tag']"
      ]
     },
     "execution_count": 5,
     "metadata": {},
     "output_type": "execute_result"
    }
   ],
   "source": [
    "dir(enchant.Dict('pt_BR').check('pode'))"
   ]
  },
  {
   "cell_type": "code",
   "execution_count": 15,
   "id": "baa183f0",
   "metadata": {},
   "outputs": [
    {
     "name": "stdout",
     "output_type": "stream",
     "text": [
      "Palavra 1:  \u001b[93mA \u001b[90mR \u001b[92mA \u001b[90mR \u001b[92mA\n",
      "Palavra 2: _,_,_,_,_\n",
      "Palavra 3: _,_,_,_,_\n"
     ]
    }
   ],
   "source": [
    "import enchant \n",
    "from IPython.display import clear_output\n",
    "from tqdm import tqdm\n",
    "import time\n",
    "\n",
    "dic = enchant.Dict('pt_BR')\n",
    "\n",
    "answer = 'CHAMA'\n",
    "list_answer = list(answer)\n",
    "\n",
    "class Wordle:\n",
    "    def __init__(self, name, size=None):\n",
    "        self.name = name\n",
    "        self.size = len(name)\n",
    "        \n",
    "    def exists(self):\n",
    "        if dic.check(self.name) == True:\n",
    "            return True\n",
    "        else:\n",
    "            return False\n",
    "    \n",
    "    def fit(self):\n",
    "        if self.size == 5:\n",
    "            return True\n",
    "        else:\n",
    "            return False\n",
    "    \n",
    "    def brain(self):\n",
    "        list_name = list(self.name)\n",
    "        brain_list = ['']*len(list_name)\n",
    "        for i_name in range(len(list_name)):\n",
    "            for i_answer in range(len(list_name)):\n",
    "                if list_name[i_name] == list_answer[i_answer]:\n",
    "                    if i_name == i_answer:\n",
    "                        brain_list[i_name] = '\\033[92m'+list_name[i_name]\n",
    "                    elif brain_list[i_name] != '\\033[92m'+list_name[i_name]:\n",
    "                        brain_list[i_name] = '\\033[93m'+list_name[i_name]\n",
    "                elif brain_list[i_name] == '':\n",
    "                    brain_list[i_name] = '\\033[90m'+list_name[i_name]\n",
    "#         return brain_list\n",
    "        return ' '.join(brain_list)\n",
    "            \n",
    "\n",
    "        \n",
    "\n",
    "## Insira sua primeira palavra:\n",
    "\n",
    "word = input('Insira uma palavra: ').upper()\n",
    "word = Wordle(word)\n",
    "while word.exists() == False:\n",
    "    word = Wordle(input('Tente uma palavra válida: ').upper())\n",
    "for i in tqdm(range(100)):\n",
    "    time.sleep(0.1)\n",
    "clear_output()\n",
    "print('Palavra 1: ',word.brain())\n",
    "print('Palavra 2: _,_,_,_,_\\nPalavra 3: _,_,_,_,_')"
   ]
  },
  {
   "cell_type": "code",
   "execution_count": 82,
   "id": "399a533f",
   "metadata": {},
   "outputs": [],
   "source": [
    "from IPython.display import clear_output\n",
    "\n",
    "print('teste')\n",
    "clear_output()"
   ]
  },
  {
   "cell_type": "code",
   "execution_count": 46,
   "id": "e9dc2770",
   "metadata": {},
   "outputs": [
    {
     "name": "stdout",
     "output_type": "stream",
     "text": [
      "A\u001b[92m B\n"
     ]
    }
   ],
   "source": [
    "lst = ['A','\\033[92m B']\n",
    "print(''.join(lst))"
   ]
  },
  {
   "cell_type": "code",
   "execution_count": 51,
   "id": "a42b70c0",
   "metadata": {},
   "outputs": [
    {
     "data": {
      "text/plain": [
       "[' ', ' ', ' ', ' ', 8]"
      ]
     },
     "execution_count": 51,
     "metadata": {},
     "output_type": "execute_result"
    }
   ],
   "source": [
    "lst = [' ']*5\n",
    "lst[4] = 8\n",
    "lst"
   ]
  },
  {
   "cell_type": "code",
   "execution_count": 73,
   "id": "6cb89428",
   "metadata": {},
   "outputs": [
    {
     "name": "stdout",
     "output_type": "stream",
     "text": [
      "\u001b[90ma  r \u001b[92ma r \u001b[92ma\n"
     ]
    }
   ],
   "source": [
    "lst = ['\\x1b[93ma', ' r', '\\x1b[92ma', 'r', '\\x1b[92ma']\n",
    "print(' '.join(lst))"
   ]
  },
  {
   "cell_type": "code",
   "execution_count": 6,
   "id": "6a808db7",
   "metadata": {},
   "outputs": [
    {
     "data": {
      "text/plain": [
       "array([[53, 15, 76,  6],\n",
       "       [63, 62, 54, 65],\n",
       "       [85, 64, 37, 43],\n",
       "       [21, 18, 22, 51]])"
      ]
     },
     "execution_count": 6,
     "metadata": {},
     "output_type": "execute_result"
    }
   ],
   "source": [
    "import numpy as np\n",
    "np.random.choice(range(1,100,1), size=(4,4), replace=False)"
   ]
  },
  {
   "cell_type": "code",
   "execution_count": 7,
   "id": "b32d7fa7",
   "metadata": {},
   "outputs": [
    {
     "data": {
      "text/plain": [
       "array([[51, 74, 63, 68, 86],\n",
       "       [15, 70, 55, 56, 33],\n",
       "       [96, 77, 41, 33, 15],\n",
       "       [28, 52, 32, 53, 30]])"
      ]
     },
     "execution_count": 7,
     "metadata": {},
     "output_type": "execute_result"
    }
   ],
   "source": [
    "np.random.randint(1,100, size=(4,5))"
   ]
  },
  {
   "cell_type": "code",
   "execution_count": 14,
   "id": "63b7b3f2",
   "metadata": {},
   "outputs": [
    {
     "ename": "TypeError",
     "evalue": "random_sample() takes at most 1 positional argument (2 given)",
     "output_type": "error",
     "traceback": [
      "\u001b[0;31m---------------------------------------------------------------------------\u001b[0m",
      "\u001b[0;31mTypeError\u001b[0m                                 Traceback (most recent call last)",
      "\u001b[0;32m/var/folders/17/6qjxgwhx55d57znt_9szyf_m0000gn/T/ipykernel_81808/3444285332.py\u001b[0m in \u001b[0;36m<module>\u001b[0;34m\u001b[0m\n\u001b[1;32m      1\u001b[0m \u001b[0;32mimport\u001b[0m \u001b[0mnumpy\u001b[0m \u001b[0;32mas\u001b[0m \u001b[0mnp\u001b[0m\u001b[0;34m\u001b[0m\u001b[0;34m\u001b[0m\u001b[0m\n\u001b[0;32m----> 2\u001b[0;31m \u001b[0mnp\u001b[0m\u001b[0;34m.\u001b[0m\u001b[0mrandom\u001b[0m\u001b[0;34m.\u001b[0m\u001b[0msample\u001b[0m\u001b[0;34m(\u001b[0m\u001b[0mrange\u001b[0m\u001b[0;34m(\u001b[0m\u001b[0;36m0\u001b[0m\u001b[0;34m,\u001b[0m\u001b[0;36m10\u001b[0m\u001b[0;34m)\u001b[0m\u001b[0;34m,\u001b[0m\u001b[0;36m4\u001b[0m\u001b[0;34m)\u001b[0m\u001b[0;34m\u001b[0m\u001b[0;34m\u001b[0m\u001b[0m\n\u001b[0m",
      "\u001b[0;32mmtrand.pyx\u001b[0m in \u001b[0;36mnumpy.random.mtrand.sample\u001b[0;34m()\u001b[0m\n",
      "\u001b[0;32mmtrand.pyx\u001b[0m in \u001b[0;36mnumpy.random.mtrand.RandomState.random_sample\u001b[0;34m()\u001b[0m\n",
      "\u001b[0;31mTypeError\u001b[0m: random_sample() takes at most 1 positional argument (2 given)"
     ]
    }
   ],
   "source": [
    "import numpy as np\n",
    "np.random.sample(range(0,10),4)"
   ]
  }
 ],
 "metadata": {
  "kernelspec": {
   "display_name": "Python 3 (ipykernel)",
   "language": "python",
   "name": "python3"
  },
  "language_info": {
   "codemirror_mode": {
    "name": "ipython",
    "version": 3
   },
   "file_extension": ".py",
   "mimetype": "text/x-python",
   "name": "python",
   "nbconvert_exporter": "python",
   "pygments_lexer": "ipython3",
   "version": "3.9.7"
  }
 },
 "nbformat": 4,
 "nbformat_minor": 5
}
